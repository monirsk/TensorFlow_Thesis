{
  "nbformat": 4,
  "nbformat_minor": 0,
  "metadata": {
    "colab": {
      "provenance": [],
      "authorship_tag": "ABX9TyNcpoM5V/zvSZi/pTwYPjek",
      "include_colab_link": true
    },
    "kernelspec": {
      "name": "python3",
      "display_name": "Python 3"
    },
    "language_info": {
      "name": "python"
    }
  },
  "cells": [
    {
      "cell_type": "markdown",
      "metadata": {
        "id": "view-in-github",
        "colab_type": "text"
      },
      "source": [
        "<a href=\"https://colab.research.google.com/github/monirsk/TensorFlow_Thesis/blob/main/tensorflow1.ipynb\" target=\"_parent\"><img src=\"https://colab.research.google.com/assets/colab-badge.svg\" alt=\"Open In Colab\"/></a>"
      ]
    },
    {
      "cell_type": "markdown",
      "source": [
        "# Tensor is an N-dimensional array of data"
      ],
      "metadata": {
        "id": "dEU4xsqEPF4g"
      }
    },
    {
      "cell_type": "code",
      "execution_count": 5,
      "metadata": {
        "id": "uEvtLuUaKCyb"
      },
      "outputs": [],
      "source": [
        "import tensorflow as tf"
      ]
    },
    {
      "cell_type": "code",
      "source": [
        "#Initialing of tensors\n",
        "\n",
        "x = tf.constant(4)\n",
        "print(x)\n",
        "\n",
        "y = tf.constant([1,2,3,4])\n",
        "print(y, type(y))\n",
        "\n",
        "z = tf.constant([[1,2,3],[4,5,6]])\n",
        "print(z, type(z))\n"
      ],
      "metadata": {
        "id": "WZpnaU7GKyj3",
        "colab": {
          "base_uri": "https://localhost:8080/"
        },
        "outputId": "4b1c40ca-cb4f-4753-a4e2-30c57cf4154c"
      },
      "execution_count": null,
      "outputs": [
        {
          "output_type": "stream",
          "name": "stdout",
          "text": [
            "tf.Tensor(4, shape=(), dtype=int32)\n",
            "tf.Tensor([1 2 3 4], shape=(4,), dtype=int32) <class 'tensorflow.python.framework.ops.EagerTensor'>\n",
            "tf.Tensor(\n",
            "[[1 2 3]\n",
            " [4 5 6]], shape=(2, 3), dtype=int32) <class 'tensorflow.python.framework.ops.EagerTensor'>\n"
          ]
        }
      ]
    },
    {
      "cell_type": "code",
      "source": [
        "z = tf.range(8)\n",
        "print(z)"
      ],
      "metadata": {
        "colab": {
          "base_uri": "https://localhost:8080/"
        },
        "id": "Bt27WjrDMRh_",
        "outputId": "4779f7c6-cefd-4083-912a-257b24391682"
      },
      "execution_count": null,
      "outputs": [
        {
          "output_type": "stream",
          "name": "stdout",
          "text": [
            "tf.Tensor([0 1 2 3 4 5 6 7], shape=(8,), dtype=int32)\n"
          ]
        }
      ]
    },
    {
      "cell_type": "code",
      "source": [
        "sum =0\n",
        "for x in z:\n",
        "    sum+=x\n",
        "print(sum)\n",
        "\n",
        "if sum==tf.reduce_sum(z):\n",
        "    print(\"True\")\n",
        "else:\n",
        "    print(\"False\")\n"
      ],
      "metadata": {
        "colab": {
          "base_uri": "https://localhost:8080/"
        },
        "id": "OdKYOKnFRvTv",
        "outputId": "e49db1cc-3643-4998-fddf-6d0b458e56cf"
      },
      "execution_count": null,
      "outputs": [
        {
          "output_type": "stream",
          "name": "stdout",
          "text": [
            "tf.Tensor(28, shape=(), dtype=int32)\n",
            "True\n"
          ]
        }
      ]
    },
    {
      "cell_type": "code",
      "source": [
        "c = tf.range(1,10)\n",
        "print(c)\n",
        "\n",
        "c2 = tf.range(2,20,3)\n",
        "print(c2)"
      ],
      "metadata": {
        "colab": {
          "base_uri": "https://localhost:8080/"
        },
        "id": "sHSTvitHR1AL",
        "outputId": "2f2dcb12-bb5b-4495-fb5e-502d0dc4e704"
      },
      "execution_count": null,
      "outputs": [
        {
          "output_type": "stream",
          "name": "stdout",
          "text": [
            "tf.Tensor([1 2 3 4 5 6 7 8 9], shape=(9,), dtype=int32)\n",
            "tf.Tensor([ 2  5  8 11 14 17], shape=(6,), dtype=int32)\n"
          ]
        }
      ]
    },
    {
      "cell_type": "markdown",
      "source": [
        "# Basic Operations of tensors (add, sub, mul)"
      ],
      "metadata": {
        "id": "1gwB3HlLTaZq"
      }
    },
    {
      "cell_type": "code",
      "source": [
        "x1 = tf.constant([10,20,30])\n",
        "x2 = tf.constant([11,22,33])\n",
        "\n",
        "x3 = tf.add(x1,x2) # x3 = x1+x2 is also correct\n",
        "print(x3)\n",
        "\n",
        "x3 = tf.subtract(x1,x2)\n",
        "print(x3)"
      ],
      "metadata": {
        "colab": {
          "base_uri": "https://localhost:8080/"
        },
        "id": "DHyEWYXqSM8a",
        "outputId": "71234d0c-6745-4c45-a2fc-5a31219818ac"
      },
      "execution_count": null,
      "outputs": [
        {
          "output_type": "stream",
          "name": "stdout",
          "text": [
            "tf.Tensor([21 42 63], shape=(3,), dtype=int32)\n",
            "tf.Tensor([-1 -2 -3], shape=(3,), dtype=int32)\n"
          ]
        }
      ]
    },
    {
      "cell_type": "markdown",
      "source": [
        "#Slicing works similar as in the normal python array"
      ],
      "metadata": {
        "id": "wPlN5_oyk3Pj"
      }
    },
    {
      "cell_type": "code",
      "source": [
        "f1 = tf.constant([1,2,3, 30])\n",
        "\n",
        "print(f1[:])\n",
        "print(f1[1:2])\n",
        "print(f1[1:])\n",
        "print(f1[:2])\n",
        "print(f1[::-1])\n"
      ],
      "metadata": {
        "colab": {
          "base_uri": "https://localhost:8080/"
        },
        "id": "DRRH1TfRTyca",
        "outputId": "c915d6c4-b00b-42b4-a37e-8bb365a27d62"
      },
      "execution_count": null,
      "outputs": [
        {
          "output_type": "stream",
          "name": "stdout",
          "text": [
            "tf.Tensor([ 1  2  3 30], shape=(4,), dtype=int32)\n",
            "tf.Tensor([2], shape=(1,), dtype=int32)\n",
            "tf.Tensor([ 2  3 30], shape=(3,), dtype=int32)\n",
            "tf.Tensor([1 2], shape=(2,), dtype=int32)\n",
            "tf.Tensor([30  3  2  1], shape=(4,), dtype=int32)\n"
          ]
        }
      ]
    },
    {
      "cell_type": "code",
      "source": [
        "f2 = tf.constant([[1,2,3,4],\n",
        "      [4,5,5,7],\n",
        "      [4,5,6,6]])\n",
        "\n",
        "print(f2[0])  # Prints the first row\n",
        "print(f2[0][0]) # Prints the first element of the first row\n",
        "print(f2[0:2]) # Prints the first two rows"
      ],
      "metadata": {
        "colab": {
          "base_uri": "https://localhost:8080/"
        },
        "id": "Idf_IWFxk-fv",
        "outputId": "fa7c5882-f5a8-4e33-8518-dcf02c1c9e7f"
      },
      "execution_count": 7,
      "outputs": [
        {
          "output_type": "stream",
          "name": "stdout",
          "text": [
            "tf.Tensor([1 2 3 4], shape=(4,), dtype=int32)\n",
            "tf.Tensor(1, shape=(), dtype=int32)\n",
            "tf.Tensor(\n",
            "[[1 2 3 4]\n",
            " [4 5 5 7]], shape=(2, 4), dtype=int32)\n"
          ]
        }
      ]
    },
    {
      "cell_type": "code",
      "source": [
        "f2 = tf.constant([[1,2,3,4],\n",
        "                  [4,5,5,7],\n",
        "                  [4,5,6,6]])\n",
        "\n",
        "firts_column = f2[:,0]\n",
        "print(firts_column)\n",
        "\n",
        "second_row = f2[1,:] # Second row same as f2[1]\n",
        "print(second_row)\n",
        "\n",
        "\n",
        "print(f2[:2,0]) # First column of 1st and 2nd row"
      ],
      "metadata": {
        "id": "FEZiYmdlldra",
        "colab": {
          "base_uri": "https://localhost:8080/"
        },
        "outputId": "22a87078-0d0c-4046-bd67-324e0bfa7c46"
      },
      "execution_count": 11,
      "outputs": [
        {
          "output_type": "stream",
          "name": "stdout",
          "text": [
            "tf.Tensor([1 4 4], shape=(3,), dtype=int32)\n",
            "tf.Tensor([4 5 5 7], shape=(4,), dtype=int32)\n",
            "tf.Tensor([1 4], shape=(2,), dtype=int32)\n"
          ]
        }
      ]
    },
    {
      "cell_type": "code",
      "source": [],
      "metadata": {
        "id": "5Pu0qYuStZw4"
      },
      "execution_count": 8,
      "outputs": []
    }
  ]
}